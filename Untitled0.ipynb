{
 "metadata": {
  "name": "",
  "signature": "sha256:f247acbea0d0804625afe741f1dbf771248684aa58718c14f88313c35feeee7a"
 },
 "nbformat": 3,
 "nbformat_minor": 0,
 "worksheets": [
  {
   "cells": [
    {
     "cell_type": "code",
     "collapsed": false,
     "input": [
      "import json"
     ],
     "language": "python",
     "metadata": {},
     "outputs": []
    }
   ],
   "metadata": {}
  }
 ]
}